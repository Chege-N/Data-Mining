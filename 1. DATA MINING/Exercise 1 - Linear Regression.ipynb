{
 "cells": [
  {
   "cell_type": "markdown",
   "metadata": {},
   "source": [
    "# Exercise 1: Linear Regression\n",
    "\n",
    "> In this exercise, you will implement linear regression and get to see it work on data."
   ]
  },
  {
   "cell_type": "markdown",
   "metadata": {},
   "source": [
    "## 1. Linear Regression with One Variable\n",
    "\n",
    "> In this part of this exercise, you will implement linear regression with one variable to predict profits for a food truck. Suppose you are the CEO of a restaurant franchise and are considering different cities for opening a new outlet. The chain already has trucks in various cities and you have data for profits and populations from the cities. You would like to use this data to help you select which city to expand to next.\n",
    "The file ex1data1.txt contains the dataset for our linear regression prob- lem. The first column is the population of a city and the second column is the profit of a food truck in that city. A negative value for profit indicates a loss.\n",
    "\n",
    "### 1.1 Plotting the Data"
   ]
  },
  {
   "cell_type": "code",
   "execution_count": 1,
   "metadata": {},
   "outputs": [],
   "source": [
    "import numpy as np\n",
    "import pandas as pd\n",
    "import seaborn as sns\n",
    "import matplotlib.pyplot as plt\n",
    "%matplotlib inline"
   ]
  },
  {
   "cell_type": "code",
   "execution_count": 2,
   "metadata": {},
   "outputs": [],
   "source": [
    "df = pd.read_csv('ex1data1.txt', sep=',', header=None)\n",
    "df.columns = ['population', 'profit']"
   ]
  },
  {
   "cell_type": "code",
   "execution_count": 3,
   "metadata": {},
   "outputs": [
    {
     "data": {
      "image/png": "[encoded data removed]",
      "text/plain": [
       "<Figure size 432x288 with 1 Axes>"
      ]
     },
     "metadata": {
      "needs_background": "light"
     },
     "output_type": "display_data"
    }
   ],
   "source": [
    "ax = sns.scatterplot(x='population', y='profit', data=df)\n",
    "ax.set(xlabel='Population of City in 10,000s', ylabel='Profit in $10,000s', title='Scatter plot of training data');"
   ]
  },
  {
   "cell_type": "markdown",
   "metadata": {},
   "source": [
    "The plot shows that they have a linear relationship."
   ]
  },
  {
   "cell_type": "markdown",
   "metadata": {},
   "source": [
    "### 1.2 Gradient Descent\n",
    "\n",
    "Fit the linear regression parameters $\\theta$ to the dataset using gradient descent\n",
    "\n",
    "#### 1.2.1 Update Equations\n",
    "\n",
    "The hypothesis of linear regression is:\n",
    "\n",
    "$$ h_\\theta(x) = \\theta^Tx = \\theta_0 + \\theta_1x_1$$\n",
    "\n",
    "The objective of linear regression is to minimize the cost function (Root Mean Square Error RMSE):\n",
    "\n",
    "$$ J(\\theta) = \\frac{1}{2m} \\sum_{i=1}^m (h_\\theta(x^{(i)}) - y^{(i)})^2 $$\n",
    "\n",
    "To minimize the cost of $J(\\theta)$ we will use the batch gradient descent algorithm. In batch gradient descent, each iteration performs the update\n",
    "\n",
    "$$ \\theta_j := \\theta_j - \\alpha \\frac{1}{m} \\sum_{i=1}^m (h_\\theta(x^{(i)}) - y^{(i)})x_j^{(i)} $$ \n",
    "\n",
    "(simultaneously update $\\theta_j$ for all $j$). With each step of gradient descent, your parameters $\\theta_j$ come closer to the optimal values that will achieve the lowest cost $J(\\theta)$.\n",
    "\n",
    "#### 1.2.2 Implementation\n",
    "\n",
    "The need to add another dimension to our data to accommodate the $\\theta_0$ intercept term. This allows us to treat $\\theta_0$ as simply another feature."
   ]
  },
  {
   "cell_type": "code",
   "execution_count": 4,
   "metadata": {},
   "outputs": [],
   "source": [
    "m = df.shape[0]\n",
    "X = np.hstack((np.ones((m,1)), df.population.values.reshape(-1,1)))\n",
    "y = np.array(df.profit.values).reshape(-1,1)\n",
    "theta = np.zeros(shape=(X.shape[1],1))\n",
    "\n",
    "iterations = 1500\n",
    "alpha = 0.01"
   ]
  },
  {
   "cell_type": "markdown",
   "metadata": {},
   "source": [
    "#### 1.2.3 Computing the Cost $J(\\theta)$"
   ]
  },
  {
   "cell_type": "code",
   "execution_count": 5,
   "metadata": {},
   "outputs": [],
   "source": [
    "def compute_cost_one_variable(X, y, theta):\n",
    "    m = y.shape[0]\n",
    "    h = X.dot(theta)\n",
    "    J = (1/(2*m)) * (np.sum((h - y)**2))\n",
    "    return J"
   ]
  },
  {
   "cell_type": "code",
   "execution_count": 6,
   "metadata": {},
   "outputs": [
    {
     "name": "stdout",
     "output_type": "stream",
     "text": [
      "With theta = [0 ; 0]\n",
      "Cost computed = 32.072733877455676\n",
      "Expected cost value (approx) 32.07\n"
     ]
    }
   ],
   "source": [
    "J = compute_cost_one_variable(X, y, theta)\n",
    "print('With theta = [0 ; 0]\\nCost computed =', J)\n",
    "print('Expected cost value (approx) 32.07')"
   ]
  },
  {
   "cell_type": "code",
   "execution_count": 7,
   "metadata": {},
   "outputs": [
    {
     "name": "stdout",
     "output_type": "stream",
     "text": [
      "With theta = [-1 ; 2]\n",
      "Cost computed = 54.24245508201238\n",
      "Expected cost value (approx) 54.24\n"
     ]
    }
   ],
   "source": [
    "J = compute_cost_one_variable(X, y, [[-1],[2]])\n",
    "print('With theta = [-1 ; 2]\\nCost computed =', J)\n",
    "print('Expected cost value (approx) 54.24')"
   ]
  },
  {
   "cell_type": "markdown",
   "metadata": {},
   "source": [
    "#### 1.2.4 Gradient Descent\n",
    "Gradient descent is a generic optimization algorithm that measures the local gradient of the cost function with regards to the parameter $\\theta$ and goes in the direction of descending gradient.\n",
    "\n",
    "Algorithm:\n",
    "\n",
    "repeat until convergence:\n",
    "$$\\theta_j := \\theta_j - \\alpha \\frac{\\partial}{\\partial\\theta_j}J(\\theta_0, \\theta_1) = \\theta_j - \\alpha \\frac{1}{m} \\sum_{i=1}^m (h_\\theta(x^{(i)}) - y^{(i)})x_j^{(i)} $$ \n",
    "\n",
    "where $j=0,1$; $\\alpha$ is the learning rate (the steps to update J); $\\frac{\\partial}{\\partial\\theta_j}J(\\theta_0, \\theta_1)$ is a derivative.\n",
    "\n",
    "* Learning rate to small: slow gradient descent\n",
    "* Learning rate to large: gradient descent can overshoot the minimum, may fail to converge"
   ]
  },
  {
   "cell_type": "code",
   "execution_count": 8,
   "metadata": {},
   "outputs": [],
   "source": [
    "def gradient_descent(X, y, theta, alpha, num_iters):\n",
    "    m = y.shape[0]\n",
    "    J_history = np.zeros(shape=(num_iters, 1))\n",
    "\n",
    "    for i in range(0, num_iters):\n",
    "        h = X.dot(theta)\n",
    "        diff_hy = h - y\n",
    "\n",
    "        delta = (1/m) * (diff_hy.T.dot(X))\n",
    "        theta = theta - (alpha * delta.T)\n",
    "        J_history[i] = compute_cost_one_variable(X, y, theta)\n",
    "\n",
    "    return theta, J_history"
   ]
  },
  {
   "cell_type": "code",
   "execution_count": 9,
   "metadata": {},
   "outputs": [
    {
     "name": "stdout",
     "output_type": "stream",
     "text": [
      "Theta found by gradient descent:\n",
      " [[-3.63029144]\n",
      " [ 1.16636235]]\n",
      "Expected theta values (approx)\n",
      " -3.6303\n",
      "  1.1664\n"
     ]
    }
   ],
   "source": [
    "theta, _ = gradient_descent(X, y, theta, alpha, iterations)\n",
    "print('Theta found by gradient descent:\\n', theta)\n",
    "print('Expected theta values (approx)\\n -3.6303\\n  1.1664')"
   ]
  },
  {
   "cell_type": "markdown",
   "metadata": {},
   "source": [
    "#### Plot the linear fit:"
   ]
  },
  {
   "cell_type": "code",
   "execution_count": 10,
   "metadata": {},
   "outputs": [
    {
     "data": {
      "image/png": "[encoded data removed]",
      "text/plain": [
       "<Figure size 432x288 with 1 Axes>"
      ]
     },
     "metadata": {
      "needs_background": "light"
     },
     "output_type": "display_data"
    }
   ],
   "source": [
    "ax = sns.scatterplot(x='population', y='profit', data=df)\n",
    "plt.plot(X[:,1], X.dot(theta), color='r')\n",
    "ax.set(xlabel='Population of City in 10,000s', ylabel='Profit in $10,000s', title='Training data with linear regression fit');"
   ]
  },
  {
   "cell_type": "code",
   "execution_count": 11,
   "metadata": {},
   "outputs": [
    {
     "data": {
      "text/plain": [
       "'For population = 35,000, we predict a profit of 4519.7678677017675'"
      ]
     },
     "execution_count": 11,
     "metadata": {},
     "output_type": "execute_result"
    }
   ],
   "source": [
    "y_pred = np.array([1, 3.5]).dot(theta)\n",
    "f'For population = 35,000, we predict a profit of {y_pred[0]*10000}'"
   ]
  },
  {
   "cell_type": "code",
   "execution_count": 12,
   "metadata": {},
   "outputs": [
    {
     "data": {
      "text/plain": [
       "'For population = 70,000, we predict a profit of 45342.45012944712'"
      ]
     },
     "execution_count": 12,
     "metadata": {},
     "output_type": "execute_result"
    }
   ],
   "source": [
    "y_pred = np.array([1, 7]).dot(theta)\n",
    "f'For population = 70,000, we predict a profit of {y_pred[0]*10000}'"
   ]
  },
  {
   "cell_type": "markdown",
   "metadata": {},
   "source": [
    "### 1.3 Visualizing $J(\\theta)$\n",
    "\n",
    "The cost function $J(\\theta)$ is bowl-shaped and has a global mininum. This minimum is the optimal point for $\\theta_0$ and $\\theta_1$, and each step of gradient descent moves closer to this point."
   ]
  },
  {
   "cell_type": "code",
   "execution_count": 13,
   "metadata": {},
   "outputs": [],
   "source": [
    "theta0_vals = np.linspace(-10, 10, 100)\n",
    "theta1_vals = np.linspace(-1, 4, 100)"
   ]
  },
  {
   "cell_type": "code",
   "execution_count": 14,
   "metadata": {},
   "outputs": [],
   "source": [
    "J_vals = np.zeros(shape=(len(theta0_vals), len(theta1_vals)))"
   ]
  },
  {
   "cell_type": "code",
   "execution_count": 15,
   "metadata": {},
   "outputs": [],
   "source": [
    "for i in range(0, len(theta0_vals)):\n",
    "    for j in range(0, len(theta1_vals)):\n",
    "        J_vals[i,j] = compute_cost_one_variable(X, y, [[theta0_vals[i]], [theta1_vals[j]]])"
   ]
  },
  {
   "cell_type": "code",
   "execution_count": 16,
   "metadata": {},
   "outputs": [
    {
     "data": {
      "image/png": "[encoded data removed]",
      "text/plain": [
       "<Figure size 432x288 with 1 Axes>"
      ]
     },
     "metadata": {
      "needs_background": "light"
     },
     "output_type": "display_data"
    }
   ],
   "source": [
    "ax = plt.contour(theta0_vals, theta1_vals, np.transpose(J_vals), levels=np.logspace(-2,3,20))\n",
    "plt.plot(theta[0,0], theta[1,0], marker='x', color='r');\n",
    "plt.xlabel(r'$\\theta_0$');\n",
    "plt.ylabel(r'$\\theta_1$');\n",
    "plt.title('Contour, showing minimum');"
   ]
  },
  {
   "cell_type": "markdown",
   "metadata": {},
   "source": [
    "### 1.4 Equivalent Code using Scikit-Learn"
   ]
  },
  {
   "cell_type": "code",
   "execution_count": 17,
   "metadata": {},
   "outputs": [
    {
     "data": {
      "text/plain": [
       "LinearRegression()"
      ]
     },
     "execution_count": 17,
     "metadata": {},
     "output_type": "execute_result"
    }
   ],
   "source": [
    "from sklearn.linear_model import LinearRegression\n",
    "lin_reg = LinearRegression()\n",
    "lin_reg.fit(df.population.values.reshape(-1,1), \n",
    "            df.profit.values.reshape(-1,1))"
   ]
  },
  {
   "cell_type": "code",
   "execution_count": 18,
   "metadata": {},
   "outputs": [
    {
     "data": {
      "text/plain": [
       "(array([-3.89578088]), array([[1.19303364]]))"
      ]
     },
     "execution_count": 18,
     "metadata": {},
     "output_type": "execute_result"
    }
   ],
   "source": [
    "lin_reg.intercept_, lin_reg.coef_"
   ]
  },
  {
   "cell_type": "markdown",
   "metadata": {},
   "source": [
    "## 2. Linear Regression with Multiple Variables\n",
    "\n",
    "> In this part, you will implement linear regression with multiple variables to predict the prices of houses. Suppose you are selling your house and you want to know what a good market price would be. One way to do this is to first collect information on recent houses sold and make a model of housing prices.\n",
    "The file ex1data2.txt contains a training set of housing prices in Portland, Oregon. The first column is the size of the house (in square feet), the second column is the number of bedrooms, and the third column is the price of the house.\n",
    "\n",
    "### 2.1 Feature Normalization"
   ]
  },
  {
   "cell_type": "code",
   "execution_count": 20,
   "metadata": {},
   "outputs": [
    {
     "data": {
      "text/html": [
       "<div>\n",
       "<style scoped>\n",
       "    .dataframe tbody tr th:only-of-type {\n",
       "        vertical-align: middle;\n",
       "    }\n",
       "\n",
       "    .dataframe tbody tr th {\n",
       "        vertical-align: top;\n",
       "    }\n",
       "\n",
       "    .dataframe thead th {\n",
       "        text-align: right;\n",
       "    }\n",
       "</style>\n",
       "<table border=\"1\" class=\"dataframe\">\n",
       "  <thead>\n",
       "    <tr style=\"text-align: right;\">\n",
       "      <th></th>\n",
       "      <th>count</th>\n",
       "      <th>mean</th>\n",
       "      <th>std</th>\n",
       "      <th>min</th>\n",
       "      <th>25%</th>\n",
       "      <th>50%</th>\n",
       "      <th>75%</th>\n",
       "      <th>max</th>\n",
       "    </tr>\n",
       "  </thead>\n",
       "  <tbody>\n",
       "    <tr>\n",
       "      <th>house_size</th>\n",
       "      <td>47.0</td>\n",
       "      <td>2000.680851</td>\n",
       "      <td>794.702354</td>\n",
       "      <td>852.0</td>\n",
       "      <td>1432.0</td>\n",
       "      <td>1888.0</td>\n",
       "      <td>2269.0</td>\n",
       "      <td>4478.0</td>\n",
       "    </tr>\n",
       "    <tr>\n",
       "      <th>bedrooms</th>\n",
       "      <td>47.0</td>\n",
       "      <td>3.170213</td>\n",
       "      <td>0.760982</td>\n",
       "      <td>1.0</td>\n",
       "      <td>3.0</td>\n",
       "      <td>3.0</td>\n",
       "      <td>4.0</td>\n",
       "      <td>5.0</td>\n",
       "    </tr>\n",
       "    <tr>\n",
       "      <th>house_price</th>\n",
       "      <td>47.0</td>\n",
       "      <td>340412.659574</td>\n",
       "      <td>125039.899586</td>\n",
       "      <td>169900.0</td>\n",
       "      <td>249900.0</td>\n",
       "      <td>299900.0</td>\n",
       "      <td>384450.0</td>\n",
       "      <td>699900.0</td>\n",
       "    </tr>\n",
       "  </tbody>\n",
       "</table>\n",
       "</div>"
      ],
      "text/plain": [
       "             count           mean            std       min       25%  \\\n",
       "house_size    47.0    2000.680851     794.702354     852.0    1432.0   \n",
       "bedrooms      47.0       3.170213       0.760982       1.0       3.0   \n",
       "house_price   47.0  340412.659574  125039.899586  169900.0  249900.0   \n",
       "\n",
       "                  50%       75%       max  \n",
       "house_size     1888.0    2269.0    4478.0  \n",
       "bedrooms          3.0       4.0       5.0  \n",
       "house_price  299900.0  384450.0  699900.0  "
      ]
     },
     "execution_count": 20,
     "metadata": {},
     "output_type": "execute_result"
    }
   ],
   "source": [
    "df2 = pd.read_csv('ex1data2.txt', sep=',', header=None)\n",
    "df2.columns = ['house_size', 'bedrooms', 'house_price']\n",
    "df2.describe().T"
   ]
  },
  {
   "cell_type": "markdown",
   "metadata": {},
   "source": [
    "> By looking at the values, note that house sizes are about 1000 times the number of bedrooms. When features differ by orders of magnitude, first performing feature scaling can make gradient descent converge much more quickly."
   ]
  },
  {
   "cell_type": "markdown",
   "metadata": {},
   "source": [
    "We can speed up gradient descent by having each of our input values in roughly the same range, ideally $-1 \\leq x_i \\leq1$ or $-0.5 \\leq x_i \\leq0.5$.\n",
    "\n",
    "* Feature scaling: involves dividing the input values by the range (i.e. the maximum value minus the minimum value) of the input variable\n",
    "* Mean normalization: involves subtracting the average value for an input variable from the values for that input variable\n",
    "\n",
    "$x_i := \\frac{x_i - \\mu_i}{s_i}$, wher $\\mu_i$ is the average of all the values for features (i) and $s_i$ is the range of values (max-min), the standard deviation."
   ]
  },
  {
   "cell_type": "code",
   "execution_count": 21,
   "metadata": {},
   "outputs": [],
   "source": [
    "def feature_normalize(X, mean=np.zeros(1), std=np.zeros(1)):\n",
    "    X = np.array(X)\n",
    "    if len(mean.shape) == 1 or len(std.shape) == 1:\n",
    "        mean = np.mean(X, axis=0)\n",
    "        std = np.std(X, axis=0, ddof=1)\n",
    "\n",
    "    X = (X - mean)/std\n",
    "    return X, mean, std"
   ]
  },
  {
   "cell_type": "code",
   "execution_count": 22,
   "metadata": {},
   "outputs": [],
   "source": [
    "X_norm, mu, sigma = feature_normalize(df2[['house_size', 'bedrooms']])"
   ]
  },
  {
   "cell_type": "code",
   "execution_count": 23,
   "metadata": {},
   "outputs": [
    {
     "data": {
      "text/html": [
       "<div>\n",
       "<style scoped>\n",
       "    .dataframe tbody tr th:only-of-type {\n",
       "        vertical-align: middle;\n",
       "    }\n",
       "\n",
       "    .dataframe tbody tr th {\n",
       "        vertical-align: top;\n",
       "    }\n",
       "\n",
       "    .dataframe thead th {\n",
       "        text-align: right;\n",
       "    }\n",
       "</style>\n",
       "<table border=\"1\" class=\"dataframe\">\n",
       "  <thead>\n",
       "    <tr style=\"text-align: right;\">\n",
       "      <th></th>\n",
       "      <th>count</th>\n",
       "      <th>mean</th>\n",
       "      <th>std</th>\n",
       "      <th>min</th>\n",
       "      <th>25%</th>\n",
       "      <th>50%</th>\n",
       "      <th>75%</th>\n",
       "      <th>max</th>\n",
       "    </tr>\n",
       "  </thead>\n",
       "  <tbody>\n",
       "    <tr>\n",
       "      <th>house_size_normalized</th>\n",
       "      <td>47.0</td>\n",
       "      <td>1.889741e-17</td>\n",
       "      <td>1.0</td>\n",
       "      <td>-1.445423</td>\n",
       "      <td>-0.715590</td>\n",
       "      <td>-0.141790</td>\n",
       "      <td>0.337635</td>\n",
       "      <td>3.117292</td>\n",
       "    </tr>\n",
       "    <tr>\n",
       "      <th>bedrooms_normalized</th>\n",
       "      <td>47.0</td>\n",
       "      <td>2.651543e-16</td>\n",
       "      <td>1.0</td>\n",
       "      <td>-2.851859</td>\n",
       "      <td>-0.223675</td>\n",
       "      <td>-0.223675</td>\n",
       "      <td>1.090417</td>\n",
       "      <td>2.404508</td>\n",
       "    </tr>\n",
       "  </tbody>\n",
       "</table>\n",
       "</div>"
      ],
      "text/plain": [
       "                       count          mean  std       min       25%       50%  \\\n",
       "house_size_normalized   47.0  1.889741e-17  1.0 -1.445423 -0.715590 -0.141790   \n",
       "bedrooms_normalized     47.0  2.651543e-16  1.0 -2.851859 -0.223675 -0.223675   \n",
       "\n",
       "                            75%       max  \n",
       "house_size_normalized  0.337635  3.117292  \n",
       "bedrooms_normalized    1.090417  2.404508  "
      ]
     },
     "execution_count": 23,
     "metadata": {},
     "output_type": "execute_result"
    }
   ],
   "source": [
    "df2['house_size_normalized'] = X_norm[:,0]\n",
    "df2['bedrooms_normalized'] = X_norm[:,1]\n",
    "df2[['house_size_normalized', 'bedrooms_normalized']].describe().T"
   ]
  },
  {
   "cell_type": "markdown",
   "metadata": {},
   "source": [
    "### 2.2 Gradient Descent\n",
    "\n",
    "The only difference from univariate regression problem is that now there is one more feature in the matrix X. The hypothesis function and the batch gradient descent update rule remain unchanged.\n",
    "\n",
    "Note: In the multivariate case, the cost function can also be written in the following vectorized form:\n",
    "\n",
    "$$J(\\theta) = \\frac{1}{2m}(X\\theta-y)^T(X\\theta-y)$$"
   ]
  },
  {
   "cell_type": "code",
   "execution_count": 24,
   "metadata": {},
   "outputs": [],
   "source": [
    "def compute_cost(X, y, theta):\n",
    "    m = y.shape[0]\n",
    "    h = X.dot(theta)\n",
    "    J = (1/(2*m)) * ((h-y).T.dot(h-y))\n",
    "    return J"
   ]
  },
  {
   "cell_type": "code",
   "execution_count": 25,
   "metadata": {},
   "outputs": [],
   "source": [
    "def gradient_descent(X, y, theta, alpha, num_iters):\n",
    "    m = y.shape[0]\n",
    "    J_history = np.zeros(shape=(num_iters, 1))\n",
    "\n",
    "    for i in range(0, num_iters):\n",
    "        h = X.dot(theta)\n",
    "        diff_hy = h - y\n",
    "\n",
    "        delta = (1/m) * (diff_hy.T.dot(X))\n",
    "        theta = theta - (alpha * delta.T)\n",
    "        J_history[i] = compute_cost(X, y, theta)\n",
    "\n",
    "    return theta, J_history"
   ]
  },
  {
   "cell_type": "markdown",
   "metadata": {},
   "source": [
    "#### 2.2.1 Selecting Learning Rates\n",
    "\n",
    "Tips:\n",
    "* Make a plot with number of iterations on the x-axis. Now plot the cost function, $J(\\theta)$ over the number of iterations of gradient descent. If $J(\\theta)$  ever increases, then you probably need to decrease $\\alpha$.\n",
    "* Declare convergence if $J(\\theta)$ decreases by less than E in one iteration, where E is some small value such as $10^{−3}$."
   ]
  },
  {
   "cell_type": "code",
   "execution_count": 26,
   "metadata": {},
   "outputs": [],
   "source": [
    "m = df2.shape[0]\n",
    "X = np.hstack((np.ones((m,1)),X_norm))\n",
    "y = np.array(df2.house_price.values).reshape(-1,1)\n",
    "theta = np.zeros(shape=(X.shape[1],1))"
   ]
  },
  {
   "cell_type": "code",
   "execution_count": 27,
   "metadata": {},
   "outputs": [],
   "source": [
    "alpha = [0.3, 0.1, 0.03, 0.01]\n",
    "colors = ['b','r','g','c']\n",
    "num_iters = 50"
   ]
  },
  {
   "cell_type": "code",
   "execution_count": 28,
   "metadata": {},
   "outputs": [
    {
     "data": {
      "image/png": "[encoded data removed]",
      "text/plain": [
       "<Figure size 432x288 with 1 Axes>"
      ]
     },
     "metadata": {
      "needs_background": "light"
     },
     "output_type": "display_data"
    }
   ],
   "source": [
    "for i in range(0, len(alpha)):\n",
    "    theta = np.zeros(shape=(X.shape[1],1))\n",
    "    theta, J_history = gradient_descent(X, y, theta, alpha[i], num_iters)\n",
    "    plt.plot(range(len(J_history)), J_history, colors[i], label='Alpha {}'.format(alpha[i]))\n",
    "plt.xlabel('Number of iterations');\n",
    "plt.ylabel('Cost J');\n",
    "plt.title('Selecting learning rates');\n",
    "plt.legend()\n",
    "plt.show()"
   ]
  },
  {
   "cell_type": "code",
   "execution_count": 29,
   "metadata": {},
   "outputs": [
    {
     "name": "stdout",
     "output_type": "stream",
     "text": [
      "Theta found by gradient descent:\n",
      "[[340412.65957372]\n",
      " [110630.26530813]\n",
      " [ -6648.6893001 ]]\n"
     ]
    }
   ],
   "source": [
    "iterations = 250\n",
    "alpha = 0.1\n",
    "theta, _ = gradient_descent(X, y, theta, alpha, iterations)\n",
    "\n",
    "print('Theta found by gradient descent:')\n",
    "print(theta)"
   ]
  },
  {
   "cell_type": "markdown",
   "metadata": {},
   "source": [
    "##### Estimate the price of a 1650 sq-ft, 3 bedrooms house"
   ]
  },
  {
   "cell_type": "code",
   "execution_count": 30,
   "metadata": {},
   "outputs": [
    {
     "data": {
      "text/plain": [
       "'Price of a house with 1650 square feet and 3 bedrooms: 293081.63514221634$'"
      ]
     },
     "execution_count": 30,
     "metadata": {},
     "output_type": "execute_result"
    }
   ],
   "source": [
    "sqft = (1650 - mu[0])/sigma[0]\n",
    "bedrooms = (3 - mu[1])/sigma[1]\n",
    "y_pred = theta[0] + theta[1]*sqft + theta[2]*bedrooms\n",
    "f'Price of a house with 1650 square feet and 3 bedrooms: {y_pred[0]}$'"
   ]
  },
  {
   "cell_type": "markdown",
   "metadata": {},
   "source": [
    "### 2.3 Normal Equations\n",
    "\n",
    "A closed-form solution to find $\\theta$ without iteration.\n",
    "\n",
    "$$\\theta = (X^TX)^{-1}X^Ty$$"
   ]
  },
  {
   "cell_type": "code",
   "execution_count": 31,
   "metadata": {},
   "outputs": [],
   "source": [
    "def normal_eqn(X, y):\n",
    "    inv = np.linalg.pinv(X.T.dot(X))\n",
    "    theta = inv.dot(X.T).dot(y)\n",
    "    return theta"
   ]
  },
  {
   "cell_type": "code",
   "execution_count": 32,
   "metadata": {},
   "outputs": [
    {
     "data": {
      "text/plain": [
       "array([[89597.90954355],\n",
       "       [  139.21067402],\n",
       "       [-8738.01911255]])"
      ]
     },
     "execution_count": 32,
     "metadata": {},
     "output_type": "execute_result"
    }
   ],
   "source": [
    "Xe = np.hstack((np.ones((m,1)),df2[['house_size', 'bedrooms']].values))\n",
    "theta_e = normal_eqn(Xe, y)\n",
    "theta_e"
   ]
  },
  {
   "cell_type": "code",
   "execution_count": 33,
   "metadata": {},
   "outputs": [
    {
     "data": {
      "text/plain": [
       "'Price of a house with 1650 square feet and 3 bedrooms: 293081.4643349715$'"
      ]
     },
     "execution_count": 33,
     "metadata": {},
     "output_type": "execute_result"
    }
   ],
   "source": [
    "y_pred = theta_e[0] + theta_e[1]*1650 + theta_e[2]*3\n",
    "f'Price of a house with 1650 square feet and 3 bedrooms: {y_pred[0]}$'"
   ]
  },
  {
   "cell_type": "markdown",
   "metadata": {},
   "source": [
    "### 2.4 Equivalent Code using Scikit-Learn"
   ]
  },
  {
   "cell_type": "code",
   "execution_count": 34,
   "metadata": {},
   "outputs": [
    {
     "data": {
      "text/plain": [
       "LinearRegression()"
      ]
     },
     "execution_count": 34,
     "metadata": {},
     "output_type": "execute_result"
    }
   ],
   "source": [
    "from sklearn.linear_model import LinearRegression\n",
    "lin_reg = LinearRegression()\n",
    "lin_reg.fit(X_norm, y)"
   ]
  },
  {
   "cell_type": "code",
   "execution_count": 35,
   "metadata": {},
   "outputs": [
    {
     "data": {
      "text/plain": [
       "(array([340412.65957447]), array([[110631.05027885,  -6649.47427082]]))"
      ]
     },
     "execution_count": 35,
     "metadata": {},
     "output_type": "execute_result"
    }
   ],
   "source": [
    "lin_reg.intercept_, lin_reg.coef_"
   ]
  },
  {
   "cell_type": "code",
   "execution_count": null,
   "metadata": {},
   "outputs": [],
   "source": []
  }
 ],
 "metadata": {
  "kernelspec": {
   "display_name": "Python 3 (ipykernel)",
   "language": "python",
   "name": "python3"
  },
  "language_info": {
   "codemirror_mode": {
    "name": "ipython",
    "version": 3
   },
   "file_extension": ".py",
   "mimetype": "text/x-python",
   "name": "python",
   "nbconvert_exporter": "python",
   "pygments_lexer": "ipython3",
   "version": "3.9.12"
  }
 },
 "nbformat": 4,
 "nbformat_minor": 2
}
